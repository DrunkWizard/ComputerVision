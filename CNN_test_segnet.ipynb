{
 "cells": [
  {
   "cell_type": "code",
   "execution_count": null,
   "id": "6be6b6fe",
   "metadata": {},
   "outputs": [],
   "source": [
    "# Первичное обучнеие модели с сохранением весов в файл\n",
    "from keras_segmentation.models.segnet import segnet # Импорт библиотеки\n",
    "\n",
    "model = segnet(n_classes=4 ,  input_height=450, input_width=480  ) # Создаем модель на 4 класса и задаем размер изображений \n",
    "\n",
    "# model.save_weights(\"savedmodels/segnet_1\")\n",
    "\n",
    "#Запускаем обучение модели \n",
    "model.train(\n",
    "    train_images =  \"wsisegdatasetmodified1/whole_sky_images_png_train\",\n",
    "    train_annotations = \"wsisegdatasetmodified1/annotation_png_train\",\n",
    "    checkpoints_path = \"./tmp/checkpoint\" , epochs=1\n",
    "#       train_images =  \"dataset1/images_prepped_train/\",\n",
    "#       train_annotations = \"dataset1/annotations_prepped_train/\",\n",
    "#       checkpoints_path = \"./tmp/vgg_unet_1\" , epochs=0\n",
    ")\n",
    "\n",
    "model.save_weights(\"savedmodels/saved_weights_try_8_step_1\")"
   ]
  },
  {
   "cell_type": "code",
   "execution_count": 1,
   "id": "dramatic-status",
   "metadata": {
    "scrolled": false
   },
   "outputs": [
    {
     "name": "stderr",
     "output_type": "stream",
     "text": [
      "\r",
      "  0%|                                                                                          | 0/360 [00:00<?, ?it/s]"
     ]
    },
    {
     "name": "stdout",
     "output_type": "stream",
     "text": [
      "Verifying training dataset\n"
     ]
    },
    {
     "name": "stderr",
     "output_type": "stream",
     "text": [
      "100%|███████████████████████████████████████████████████████████████████████████████| 360/360 [00:02<00:00, 129.06it/s]\n",
      "c:\\users\\user\\appdata\\local\\programs\\python\\python37\\lib\\site-packages\\tensorflow\\python\\keras\\engine\\training.py:1844: UserWarning: `Model.fit_generator` is deprecated and will be removed in a future version. Please use `Model.fit`, which supports generators.\n",
      "  warnings.warn('`Model.fit_generator` is deprecated and '\n"
     ]
    },
    {
     "name": "stdout",
     "output_type": "stream",
     "text": [
      "Dataset verified! \n",
      "Epoch 1/20\n",
      "512/512 [==============================] - 1775s 3s/step - loss: 0.1210 - accuracy: 0.9527\n",
      "saved  ./tmp/checkpoint.0\n",
      "Epoch 2/20\n",
      "512/512 [==============================] - 1730s 3s/step - loss: 0.1189 - accuracy: 0.9534\n",
      "saved  ./tmp/checkpoint.1\n",
      "Epoch 3/20\n",
      "512/512 [==============================] - 1729s 3s/step - loss: 0.1194 - accuracy: 0.9531\n",
      "saved  ./tmp/checkpoint.2\n",
      "Epoch 4/20\n",
      "512/512 [==============================] - 1731s 3s/step - loss: 0.1178 - accuracy: 0.9537\n",
      "saved  ./tmp/checkpoint.3\n",
      "Epoch 5/20\n",
      "512/512 [==============================] - 1728s 3s/step - loss: 0.1167 - accuracy: 0.9541\n",
      "saved  ./tmp/checkpoint.4\n",
      "Epoch 6/20\n",
      "512/512 [==============================] - 1730s 3s/step - loss: 0.1148 - accuracy: 0.9549\n",
      "saved  ./tmp/checkpoint.5\n",
      "Epoch 7/20\n",
      "512/512 [==============================] - 1729s 3s/step - loss: 0.1159 - accuracy: 0.9545\n",
      "saved  ./tmp/checkpoint.6\n",
      "Epoch 8/20\n",
      "512/512 [==============================] - 1730s 3s/step - loss: 0.1144 - accuracy: 0.9549\n",
      "saved  ./tmp/checkpoint.7\n",
      "Epoch 9/20\n",
      "512/512 [==============================] - 1730s 3s/step - loss: 0.1136 - accuracy: 0.9552\n",
      "saved  ./tmp/checkpoint.8\n",
      "Epoch 10/20\n",
      "512/512 [==============================] - 1730s 3s/step - loss: 0.1136 - accuracy: 0.9551\n",
      "saved  ./tmp/checkpoint.9\n",
      "Epoch 11/20\n",
      "512/512 [==============================] - 1726s 3s/step - loss: 0.1122 - accuracy: 0.9557\n",
      "saved  ./tmp/checkpoint.10\n",
      "Epoch 12/20\n",
      "512/512 [==============================] - 1683s 3s/step - loss: 0.1123 - accuracy: 0.9556\n",
      "saved  ./tmp/checkpoint.11\n",
      "Epoch 13/20\n",
      "512/512 [==============================] - 1684s 3s/step - loss: 0.1099 - accuracy: 0.9567\n",
      "saved  ./tmp/checkpoint.12\n",
      "Epoch 14/20\n",
      "512/512 [==============================] - 1684s 3s/step - loss: 0.1108 - accuracy: 0.9563\n",
      "saved  ./tmp/checkpoint.13\n",
      "Epoch 15/20\n",
      "512/512 [==============================] - 1691s 3s/step - loss: 0.1094 - accuracy: 0.9568\n",
      "saved  ./tmp/checkpoint.14\n",
      "Epoch 16/20\n",
      "512/512 [==============================] - 1690s 3s/step - loss: 0.1099 - accuracy: 0.9565\n",
      "saved  ./tmp/checkpoint.15\n",
      "Epoch 17/20\n",
      "512/512 [==============================] - 1691s 3s/step - loss: 0.1086 - accuracy: 0.9570\n",
      "saved  ./tmp/checkpoint.16\n",
      "Epoch 18/20\n",
      "512/512 [==============================] - 1689s 3s/step - loss: 0.1091 - accuracy: 0.9568\n",
      "saved  ./tmp/checkpoint.17\n",
      "Epoch 19/20\n",
      "512/512 [==============================] - 1691s 3s/step - loss: 0.1072 - accuracy: 0.9576\n",
      "saved  ./tmp/checkpoint.18\n",
      "Epoch 20/20\n",
      "512/512 [==============================] - 1689s 3s/step - loss: 0.1078 - accuracy: 0.9574\n",
      "saved  ./tmp/checkpoint.19\n"
     ]
    },
    {
     "name": "stderr",
     "output_type": "stream",
     "text": [
      "40it [00:13,  2.98it/s]"
     ]
    },
    {
     "name": "stdout",
     "output_type": "stream",
     "text": [
      "{'frequency_weighted_IU': 0.9223719644579307, 'frequency_weighted_presision': 0.9587521330400859, 'frequency_weighted_recall': 0.9588904389880952, 'frequency_weighted_fscore': 0.9587955635878641, 'mean_IU': 0.8413651161605132, 'mean_presision': 0.9171431095057028, 'mean_recall': 0.8968815011674338, 'mean_fscore': 0.9064433446733081, 'class_wise_IU': array([0.98534483, 0.88813744, 0.59774675, 0.89423145]), 'cl_wise_presision': array([0.99171844, 0.94455418, 0.79155285, 0.94074696]), 'cl_wise_recall': array([0.99351985, 0.9369864 , 0.7094162 , 0.94760356]), 'cl_wise_fscore': array([0.99261833, 0.94075507, 0.74823716, 0.94416281])}\n"
     ]
    },
    {
     "name": "stderr",
     "output_type": "stream",
     "text": [
      "\n"
     ]
    },
    {
     "data": {
      "image/png": "[encoded data removed]",
      "text/plain": [
       "<Figure size 432x288 with 1 Axes>"
      ]
     },
     "metadata": {
      "needs_background": "light"
     },
     "output_type": "display_data"
    }
   ],
   "source": [
    "# Обучнеие модели с использованием полученных ранее весов\n",
    "from keras_segmentation.models.segnet import segnet\n",
    "\n",
    "model = segnet(n_classes=4 ,  input_height=450, input_width=480  )\n",
    "\n",
    "# model.save(\"savedmodels/saved_model_0\")\n",
    "#Загрузка ранее полученных весовб скриптом выше\n",
    "model.load_weights(\"savedmodels/goodmodels/segnet_4c/saved_weights_try_6_step_3\")\n",
    "                                \n",
    "model.train(\n",
    "    train_images =  \"wsisegdatasetmodified1/whole_sky_images_png_train\",\n",
    "    train_annotations = \"wsisegdatasetmodified1/annotation_png_train\",\n",
    "    checkpoints_path = \"./tmp/checkpoint\" , epochs=20\n",
    "#       train_images =  \"dataset1/images_prepped_train/\",\n",
    "#       train_annotations = \"dataset1/annotations_prepped_train/\",\n",
    "#       checkpoints_path = \"./tmp/vgg_unet_1\" , epochs=10\n",
    ")\n",
    "\n",
    "model.save_weights(\"savedmodels/goodmodels/segnet_4c/saved_weights_try_6_step_4\")\n",
    "# model.save_weights(\"savedmodels/goodmodels/unet_4c/saved_weights_try_6_step_2\")\n",
    "\n",
    "out = model.predict_segmentation(\n",
    "    inp=\"wsisegdataset1/whole_sky_images_png_test/ASC100-1006_400.png\",\n",
    "    out_fname=\"/tmp/out.png\"\n",
    ")\n",
    "\n",
    "import matplotlib.pyplot as plt\n",
    "plt.imshow(out)\n",
    "\n",
    "# evaluating the model \n",
    "print(model.evaluate_segmentation( inp_images_dir=\"wsisegdatasetmodified1/whole_sky_images_png_test/\"  , annotations_dir=\"wsisegdatasetmodified1/annotation_png_test/\" ) )"
   ]
  }
 ],
 "metadata": {
  "kernelspec": {
   "display_name": "Python 3 (ipykernel)",
   "language": "python",
   "name": "python3"
  },
  "language_info": {
   "codemirror_mode": {
    "name": "ipython",
    "version": 3
   },
   "file_extension": ".py",
   "mimetype": "text/x-python",
   "name": "python",
   "nbconvert_exporter": "python",
   "pygments_lexer": "ipython3",
   "version": "3.9.7"
  }
 },
 "nbformat": 4,
 "nbformat_minor": 5
}
